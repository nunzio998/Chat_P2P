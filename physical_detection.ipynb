{
  "nbformat": 4,
  "nbformat_minor": 0,
  "metadata": {
    "colab": {
      "provenance": [],
      "authorship_tag": "ABX9TyNA1tU1xC4/X8JthXnICSRZ",
      "include_colab_link": true
    },
    "kernelspec": {
      "name": "python3",
      "display_name": "Python 3"
    },
    "language_info": {
      "name": "python"
    }
  },
  "cells": [
    {
      "cell_type": "markdown",
      "metadata": {
        "id": "view-in-github",
        "colab_type": "text"
      },
      "source": [
        "<a href=\"https://colab.research.google.com/github/nunzio998/Chat_P2P/blob/main/physical_detection.ipynb\" target=\"_parent\"><img src=\"https://colab.research.google.com/assets/colab-badge.svg\" alt=\"Open In Colab\"/></a>"
      ]
    },
    {
      "cell_type": "markdown",
      "source": [
        "# Physical Anomaly Detection"
      ],
      "metadata": {
        "id": "u9jQDQ_pNV2R"
      }
    },
    {
      "cell_type": "markdown",
      "source": [
        "## Import Librerie"
      ],
      "metadata": {
        "id": "xs62gvzhNhkN"
      }
    },
    {
      "cell_type": "code",
      "source": [
        "import pandas as pd\n",
        "from sklearn.preprocessing import StandardScaler\n",
        "import numpy as np\n",
        "from sklearn.metrics import classification_report\n",
        "from tensorflow.keras.models import Model\n",
        "from tensorflow.keras.layers import Input, Dense, Flatten, Reshape"
      ],
      "metadata": {
        "id": "mtAgZvi2dUxT"
      },
      "execution_count": 1,
      "outputs": []
    },
    {
      "cell_type": "markdown",
      "source": [
        "## Funzione per caricamento e segmentazione dataset\n",
        "Il dataset viene suddiviso in intervalli di un minuto in modo da addestrare la rete su intervalli di campioni senza anomalie, in modo da poter riconoscere in fase di test quando un intervallo contiene invece un'anomalia."
      ],
      "metadata": {
        "id": "l6qJ24bONtJV"
      }
    },
    {
      "cell_type": "code",
      "source": [
        "# 1.\n",
        "def dataset_load_and_segmentation(path):\n",
        "    # Carico il CSV con diversa codifica\n",
        "    df_norm = pd.read_csv(path, sep='\\t', encoding='utf-16')\n",
        "\n",
        "    df_norm = df_norm.drop(columns=[\"Label\"])\n",
        "\n",
        "    df_norm['Time'] = pd.to_datetime(df_norm['Time'])\n",
        "\n",
        "    # Ordino per timestamp nel caso non siano già ordinati\n",
        "    df_norm = df_norm.sort_values(by='Time')\n",
        "\n",
        "    # Definisco la durata della finestra in due minuti\n",
        "    window_duration = pd.Timedelta(minutes=1)\n",
        "\n",
        "    # Lista per i segmenti\n",
        "    segments = []\n",
        "    start_time = df_norm['Time'].iloc[0]\n",
        "\n",
        "    while start_time < df_norm['Time'].iloc[-1]:\n",
        "        end_time = start_time + window_duration\n",
        "        segment = df_norm[(df_norm['Time'] >= start_time) & (df_norm['Time'] < end_time)]\n",
        "        if len(segment) > 0:\n",
        "            segments.append(segment.drop(columns=['Time']).values)\n",
        "        start_time = end_time\n",
        "\n",
        "    # print(len(segments))\n",
        "    # for seg in segments:\n",
        "    #     print(len(seg))\n",
        "\n",
        "    # Mantengo solo i segmenti che hanno lunghezza pari a 60 o 120 in base a se divido in intervalli di 2 o 1 minuti.\n",
        "    uniform_segments = [segment for segment in segments if len(segment) == 60]\n",
        "\n",
        "    # print(\"\\n------------------------------------------------------------------------------------------------------------------------------------------------------------------------------------------------------------------------------------------------\\n\")\n",
        "    #\n",
        "    # print(len(uniform_segments))\n",
        "    # for seg in uniform_segments:\n",
        "    #     print(len(seg))\n",
        "\n",
        "    return uniform_segments"
      ],
      "metadata": {
        "id": "jlgSQdsPdbeD"
      },
      "execution_count": 2,
      "outputs": []
    },
    {
      "cell_type": "markdown",
      "source": [
        "## Funzione per il Preprocessing"
      ],
      "metadata": {
        "id": "T1CXcWg-OP5u"
      }
    },
    {
      "cell_type": "code",
      "source": [
        "# 2.\n",
        "def preprocessing(segments):\n",
        "    \"\"\"\n",
        "    1) Accorpo tutti i segmenti in un unico numpy array per poter applicare la normalizzazione.\n",
        "    2) Normalizzo.\n",
        "    3) Divido di nuovo i segmenti normalizzati nel numero originario dei segmenti in input.\n",
        "    4) Ritorno i segmenti normalizzati e lo scaler utilizzato.\n",
        "    :param segments:\n",
        "    :return:\n",
        "    \"\"\"\n",
        "    # 1)\n",
        "    segments_array = np.vstack(segments)\n",
        "\n",
        "    # print(f\"Array Unico: {segments_array}\")\n",
        "    # print(f\"Tipologia: {type(segments_array)}\")\n",
        "    # print(f\"Lunghezza: {len(segments_array)}\")\n",
        "    # print(\"\\n---------------------------------------------------------------------------------------------------------------------------------------------------------------------------\\n\")\n",
        "\n",
        "    # 2)\n",
        "    scaler = StandardScaler()\n",
        "    segments_scaled = scaler.fit_transform(segments_array)\n",
        "\n",
        "    # print(f\"Segmenti Normalizzati: {segments_scaled}\")\n",
        "    # print(f\"Tipologia: {type(segments_scaled)}\")\n",
        "    # print(f\"Lunghezza: {len(segments_scaled)}\")\n",
        "    # print(\"\\n---------------------------------------------------------------------------------------------------------------------------------------------------------------------------\\n\")\n",
        "\n",
        "    # 3)\n",
        "    segments_scaled_split = np.array_split(segments_scaled, len(segments))\n",
        "\n",
        "    # print(f\"Segmenti Normalizzati e Ricostruiti: {segments_scaled_split}\")\n",
        "    # print(f'Tipologia: {type(segments_scaled_split)}')\n",
        "    # print(f\"Lunghezza: {len(segments_scaled_split)}\")\n",
        "    # print(\"\\n---------------------------------------------------------------------------------------------------------------------------------------------------------------------------\\n\")\n",
        "\n",
        "    # 4)\n",
        "    return segments_scaled_split, scaler"
      ],
      "metadata": {
        "id": "DTRSa72mdeij"
      },
      "execution_count": 3,
      "outputs": []
    },
    {
      "cell_type": "markdown",
      "source": [
        "## Funzione per il Training"
      ],
      "metadata": {
        "id": "aVvBM66XOWUT"
      }
    },
    {
      "cell_type": "code",
      "execution_count": 4,
      "metadata": {
        "id": "7Td_xbCkdGzf"
      },
      "outputs": [],
      "source": [
        "# 3.\n",
        "def building_and_training(segments_scaled_split):\n",
        "    # Definisco l'input shape\n",
        "    input_shape = segments_scaled_split[0].shape  # Forma di un segmento\n",
        "\n",
        "    # Definisco la struttura dell'autoencoder\n",
        "    input_layer = Input(shape=input_shape)\n",
        "    x = Flatten()(input_layer)\n",
        "    x = Dense(64, activation=\"relu\")(x)\n",
        "    encoded = Dense(32, activation=\"relu\")(x)\n",
        "    x = Dense(64, activation=\"relu\")(encoded)\n",
        "    x = Dense(np.prod(input_shape), activation=\"sigmoid\")(x)\n",
        "    decoded = Reshape(input_shape)(x)\n",
        "\n",
        "    # Creo il Modello\n",
        "    autoencoder = Model(inputs=input_layer, outputs=decoded)\n",
        "    autoencoder.compile(optimizer=\"adam\", loss=\"mse\")\n",
        "\n",
        "    # Addestramento dell'autoencoder sui dati \"normali\", senza anomalie\n",
        "    autoencoder.fit(np.array(segments_scaled_split), np.array(segments_scaled_split), epochs=500, batch_size=8,\n",
        "                    shuffle=True, validation_split=0.1)\n",
        "\n",
        "    return autoencoder\n"
      ]
    },
    {
      "cell_type": "markdown",
      "source": [
        "## Calcolo dell'Errore di Ricostruzione"
      ],
      "metadata": {
        "id": "ktx1OP-vOZLU"
      }
    },
    {
      "cell_type": "code",
      "source": [
        "# 4.\n",
        "def get_rebuilding_error(autoencoder, segments_scaled_split):\n",
        "    # Ricostruzione dei dati di addestramento\n",
        "    reconstructed_train = autoencoder.predict(np.array(segments_scaled_split))\n",
        "    mse_train = np.mean(np.power(segments_scaled_split - reconstructed_train, 2), axis=(1, 2))\n",
        "\n",
        "    # Imposto il threshold al 95° percentile dell'errore\n",
        "    threshold = np.percentile(mse_train, 95)\n",
        "    print(\"Soglia di errore di ricostruzione:\", threshold)\n",
        "\n",
        "    return threshold"
      ],
      "metadata": {
        "id": "ConTUI9z3SjH"
      },
      "execution_count": 5,
      "outputs": []
    },
    {
      "cell_type": "markdown",
      "source": [
        "## Test del modello"
      ],
      "metadata": {
        "id": "QD4wdBMbOkqW"
      }
    },
    {
      "cell_type": "code",
      "source": [
        "# 5.\n",
        "def testing(path, scaler, autoencoder, threshold):\n",
        "    # Carico il CSV con diversa codifica\n",
        "    df_anomalous = pd.read_csv(path, sep='\\t', encoding='utf-16')\n",
        "    df_anomalous = df_anomalous.drop(columns=[\"Label\"])\n",
        "\n",
        "    df_anomalous['Time'] = pd.to_datetime(df_anomalous['Time'])\n",
        "    df_anomalous = df_anomalous.sort_values(by='Time')\n",
        "\n",
        "    # Segmentazione del file di test in blocchi di tot minuti\n",
        "    test_segments = []\n",
        "    start_time = df_anomalous['Time'].iloc[0]\n",
        "\n",
        "    # Definisco la finestra di tot minuti\n",
        "    window_duration = pd.Timedelta(minutes=1)\n",
        "\n",
        "    while start_time < df_anomalous['Time'].iloc[-1]:\n",
        "        end_time = start_time + window_duration\n",
        "        segment = df_anomalous[(df_anomalous['Time'] >= start_time) & (df_anomalous['Time'] < end_time)]\n",
        "        if len(segment) > 0:\n",
        "            test_segments.append(segment.drop(columns=['Time']).values)\n",
        "        start_time = end_time\n",
        "\n",
        "    # Normalizzazione dei segmenti di test usando lo scaler già addestrato\n",
        "    test_segments_scaled = [scaler.transform(segment) for segment in test_segments]\n",
        "\n",
        "    # Mantengo solo i segmenti che hanno lunghezza pari a 60 o 120 in base a se divido in intervalli di tot minuti.\n",
        "    uniform_segments = [segment for segment in test_segments_scaled if len(segment) == 60]\n",
        "\n",
        "    uniform_segments = uniform_segments[0:5]\n",
        "    print(len(uniform_segments))\n",
        "\n",
        "    for seg in uniform_segments:\n",
        "        print(seg)\n",
        "\n",
        "    # Ricostruzione e calcolo dell'errore per ogni segmento di test\n",
        "    reconstructed_test = autoencoder.predict(np.array(uniform_segments))\n",
        "    mse_test = np.mean(np.power(uniform_segments - reconstructed_test, 2), axis=(1, 2))\n",
        "\n",
        "    # Identificazione delle anomalie nei blocchi di test\n",
        "    anomalies = mse_test > threshold\n",
        "    print(\"Numero di blocchi anomali rilevati:\", np.sum(anomalies))\n",
        "    print(f\"Blocchi anomali: {anomalies}\")"
      ],
      "metadata": {
        "id": "xYe-meCk_N2h"
      },
      "execution_count": 22,
      "outputs": []
    },
    {
      "cell_type": "markdown",
      "source": [
        "## Esecuzione del processo"
      ],
      "metadata": {
        "id": "lUWWcpS9Opf6"
      }
    },
    {
      "cell_type": "code",
      "source": [
        "segments = dataset_load_and_segmentation(\"phy_norm.csv\")"
      ],
      "metadata": {
        "id": "DNMmDa45d3dr"
      },
      "execution_count": 7,
      "outputs": []
    },
    {
      "cell_type": "code",
      "source": [
        "segments_scaled_split, scaler = preprocessing(segments)"
      ],
      "metadata": {
        "id": "nhna_b1bd3Nu"
      },
      "execution_count": 8,
      "outputs": []
    },
    {
      "cell_type": "code",
      "source": [
        "autoencoder = building_and_training(segments_scaled_split)\n",
        "\n",
        "print(autoencoder)"
      ],
      "metadata": {
        "id": "_KeeyAizdmU1"
      },
      "execution_count": null,
      "outputs": []
    },
    {
      "cell_type": "code",
      "source": [
        "threshols = get_rebuilding_error(autoencoder, segments_scaled_split)\n",
        "print(threshols)"
      ],
      "metadata": {
        "id": "dDSj0Y0S-9Ri",
        "colab": {
          "base_uri": "https://localhost:8080/"
        },
        "outputId": "52629c04-d0df-4606-a4da-046a7a59eb5c"
      },
      "execution_count": 10,
      "outputs": [
        {
          "output_type": "stream",
          "name": "stdout",
          "text": [
            "\u001b[1m2/2\u001b[0m \u001b[32m━━━━━━━━━━━━━━━━━━━━\u001b[0m\u001b[37m\u001b[0m \u001b[1m0s\u001b[0m 56ms/step\n",
            "Soglia di errore di ricostruzione: 0.4955329067150167\n",
            "0.4955329067150167\n"
          ]
        }
      ]
    },
    {
      "cell_type": "code",
      "source": [
        "testing(\"phy_att_3.csv\", scaler, autoencoder, threshols)"
      ],
      "metadata": {
        "id": "ZFa0kfI8_Ubp"
      },
      "execution_count": null,
      "outputs": []
    }
  ]
}